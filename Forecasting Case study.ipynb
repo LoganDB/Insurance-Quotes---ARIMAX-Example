{
 "cells": [
  {
   "cell_type": "markdown",
   "metadata": {},
   "source": [
    "### Introduction : One of the Insurance company offering difference insurance products and one of the product is auto insurance for different vehicle.As part of lead management they are offering online Quotes based on specifications of vehicles , customer details.\n",
    "### The data has been provided for last 40 months data on monthly basis"
   ]
  },
  {
   "cell_type": "markdown",
   "metadata": {},
   "source": [
    "## Problem Statement : Forecast Quotes for next few months."
   ]
  },
  {
   "cell_type": "code",
   "execution_count": 45,
   "metadata": {},
   "outputs": [],
   "source": [
    "import pandas as pd\n",
    "import numpy as np\n",
    "import matplotlib.pyplot as plt\n",
    "import seaborn as sns\n",
    "import scipy.stats as stats\n",
    "%matplotlib inline\n",
    "from statsmodels.tsa.stattools import adfuller\n",
    "from statsmodels.tsa.seasonal import seasonal_decompose\n",
    "import statsmodels.api as sm\n",
    "from statsmodels.tsa.arima_model import ARIMA\n",
    "import statsmodels.api as sm\n",
    "import statsmodels.tsa.holtwinters as ets\n",
    "import statsmodels.tools.eval_measures as fa\n",
    "from statsmodels.tsa.holtwinters import  SimpleExpSmoothing, Holt, ExponentialSmoothing\n",
    "from sklearn.linear_model import LinearRegression\n",
    "from sklearn.metrics import mean_squared_error"
   ]
  },
  {
   "cell_type": "code",
   "execution_count": 2,
   "metadata": {},
   "outputs": [],
   "source": [
    "# Import the csv file in pandas\n",
    "Insurance=pd.read_csv('C://Users//hp//Downloads//Insurance (2).csv',parse_dates = [\"Month\"],index_col = 0)"
   ]
  },
  {
   "cell_type": "code",
   "execution_count": 3,
   "metadata": {},
   "outputs": [
    {
     "data": {
      "text/html": [
       "<div>\n",
       "<style scoped>\n",
       "    .dataframe tbody tr th:only-of-type {\n",
       "        vertical-align: middle;\n",
       "    }\n",
       "\n",
       "    .dataframe tbody tr th {\n",
       "        vertical-align: top;\n",
       "    }\n",
       "\n",
       "    .dataframe thead th {\n",
       "        text-align: right;\n",
       "    }\n",
       "</style>\n",
       "<table border=\"1\" class=\"dataframe\">\n",
       "  <thead>\n",
       "    <tr style=\"text-align: right;\">\n",
       "      <th></th>\n",
       "      <th>Quotes</th>\n",
       "      <th>TV.advert</th>\n",
       "      <th>Lag1</th>\n",
       "      <th>Lag2</th>\n",
       "    </tr>\n",
       "    <tr>\n",
       "      <th>Month</th>\n",
       "      <th></th>\n",
       "      <th></th>\n",
       "      <th></th>\n",
       "      <th></th>\n",
       "    </tr>\n",
       "  </thead>\n",
       "  <tbody>\n",
       "    <tr>\n",
       "      <th>Jan-15</th>\n",
       "      <td>12.97065</td>\n",
       "      <td>7.212725</td>\n",
       "      <td>NaN</td>\n",
       "      <td>NaN</td>\n",
       "    </tr>\n",
       "    <tr>\n",
       "      <th>Feb-15</th>\n",
       "      <td>15.38714</td>\n",
       "      <td>9.443570</td>\n",
       "      <td>7.212725</td>\n",
       "      <td>NaN</td>\n",
       "    </tr>\n",
       "    <tr>\n",
       "      <th>Mar-15</th>\n",
       "      <td>13.22957</td>\n",
       "      <td>7.534250</td>\n",
       "      <td>9.443570</td>\n",
       "      <td>7.212725</td>\n",
       "    </tr>\n",
       "    <tr>\n",
       "      <th>Apr-15</th>\n",
       "      <td>12.97065</td>\n",
       "      <td>7.212725</td>\n",
       "      <td>7.534250</td>\n",
       "      <td>9.443570</td>\n",
       "    </tr>\n",
       "    <tr>\n",
       "      <th>May-15</th>\n",
       "      <td>15.38714</td>\n",
       "      <td>9.443570</td>\n",
       "      <td>7.212725</td>\n",
       "      <td>7.534250</td>\n",
       "    </tr>\n",
       "  </tbody>\n",
       "</table>\n",
       "</div>"
      ],
      "text/plain": [
       "          Quotes  TV.advert      Lag1      Lag2\n",
       "Month                                          \n",
       "Jan-15  12.97065   7.212725       NaN       NaN\n",
       "Feb-15  15.38714   9.443570  7.212725       NaN\n",
       "Mar-15  13.22957   7.534250  9.443570  7.212725\n",
       "Apr-15  12.97065   7.212725  7.534250  9.443570\n",
       "May-15  15.38714   9.443570  7.212725  7.534250"
      ]
     },
     "execution_count": 3,
     "metadata": {},
     "output_type": "execute_result"
    }
   ],
   "source": [
    "Insurance.head() # Shows top 5 rows of data"
   ]
  },
  {
   "cell_type": "code",
   "execution_count": 4,
   "metadata": {},
   "outputs": [
    {
     "name": "stdout",
     "output_type": "stream",
     "text": [
      "<class 'pandas.core.frame.DataFrame'>\n",
      "Index: 40 entries, Jan-15 to Apr-18\n",
      "Data columns (total 4 columns):\n",
      "Quotes       40 non-null float64\n",
      "TV.advert    40 non-null float64\n",
      "Lag1         39 non-null float64\n",
      "Lag2         38 non-null float64\n",
      "dtypes: float64(4)\n",
      "memory usage: 1.6+ KB\n"
     ]
    }
   ],
   "source": [
    "Insurance.info()"
   ]
  },
  {
   "cell_type": "code",
   "execution_count": 5,
   "metadata": {},
   "outputs": [
    {
     "data": {
      "text/plain": [
       "13.604346999999999"
      ]
     },
     "execution_count": 5,
     "metadata": {},
     "output_type": "execute_result"
    }
   ],
   "source": [
    "Insurance.Quotes.mean()"
   ]
  },
  {
   "cell_type": "code",
   "execution_count": 6,
   "metadata": {},
   "outputs": [
    {
     "data": {
      "text/plain": [
       "18.438979999999997"
      ]
     },
     "execution_count": 6,
     "metadata": {},
     "output_type": "execute_result"
    }
   ],
   "source": [
    "Insurance.Quotes.max()"
   ]
  },
  {
   "cell_type": "code",
   "execution_count": 7,
   "metadata": {},
   "outputs": [
    {
     "data": {
      "text/plain": [
       "8.394680000000001"
      ]
     },
     "execution_count": 7,
     "metadata": {},
     "output_type": "execute_result"
    }
   ],
   "source": [
    "Insurance.Quotes.min()"
   ]
  },
  {
   "cell_type": "code",
   "execution_count": 8,
   "metadata": {},
   "outputs": [
    {
     "data": {
      "text/plain": [
       "13.287435000000002"
      ]
     },
     "execution_count": 8,
     "metadata": {},
     "output_type": "execute_result"
    }
   ],
   "source": [
    "Insurance.Quotes.median()"
   ]
  },
  {
   "cell_type": "code",
   "execution_count": 9,
   "metadata": {},
   "outputs": [
    {
     "data": {
      "text/plain": [
       "Quotes       0\n",
       "TV.advert    0\n",
       "Lag1         1\n",
       "Lag2         2\n",
       "dtype: int64"
      ]
     },
     "execution_count": 9,
     "metadata": {},
     "output_type": "execute_result"
    }
   ],
   "source": [
    "Insurance.isnull().sum()"
   ]
  },
  {
   "cell_type": "code",
   "execution_count": 10,
   "metadata": {},
   "outputs": [],
   "source": [
    "## Filling Missing Value with Median.\n",
    "Insurance.Lag1.fillna(value=Insurance.Lag1.median(),inplace=True)"
   ]
  },
  {
   "cell_type": "code",
   "execution_count": 11,
   "metadata": {},
   "outputs": [],
   "source": [
    "Insurance.Lag2.fillna(value=Insurance.Lag2.median(),inplace=True)"
   ]
  },
  {
   "cell_type": "code",
   "execution_count": 12,
   "metadata": {},
   "outputs": [
    {
     "data": {
      "text/html": [
       "<div>\n",
       "<style scoped>\n",
       "    .dataframe tbody tr th:only-of-type {\n",
       "        vertical-align: middle;\n",
       "    }\n",
       "\n",
       "    .dataframe tbody tr th {\n",
       "        vertical-align: top;\n",
       "    }\n",
       "\n",
       "    .dataframe thead th {\n",
       "        text-align: right;\n",
       "    }\n",
       "</style>\n",
       "<table border=\"1\" class=\"dataframe\">\n",
       "  <thead>\n",
       "    <tr style=\"text-align: right;\">\n",
       "      <th></th>\n",
       "      <th>Quotes</th>\n",
       "      <th>TV.advert</th>\n",
       "      <th>Lag1</th>\n",
       "      <th>Lag2</th>\n",
       "    </tr>\n",
       "  </thead>\n",
       "  <tbody>\n",
       "    <tr>\n",
       "      <th>count</th>\n",
       "      <td>40.000000</td>\n",
       "      <td>40.000000</td>\n",
       "      <td>40.000000</td>\n",
       "      <td>40.000000</td>\n",
       "    </tr>\n",
       "    <tr>\n",
       "      <th>mean</th>\n",
       "      <td>13.604347</td>\n",
       "      <td>8.175403</td>\n",
       "      <td>8.158619</td>\n",
       "      <td>8.097466</td>\n",
       "    </tr>\n",
       "    <tr>\n",
       "      <th>std</th>\n",
       "      <td>2.399347</td>\n",
       "      <td>1.317264</td>\n",
       "      <td>1.314308</td>\n",
       "      <td>1.260453</td>\n",
       "    </tr>\n",
       "    <tr>\n",
       "      <th>min</th>\n",
       "      <td>8.394680</td>\n",
       "      <td>5.707495</td>\n",
       "      <td>5.707495</td>\n",
       "      <td>5.707495</td>\n",
       "    </tr>\n",
       "    <tr>\n",
       "      <th>25%</th>\n",
       "      <td>12.023205</td>\n",
       "      <td>7.212725</td>\n",
       "      <td>7.212725</td>\n",
       "      <td>7.212725</td>\n",
       "    </tr>\n",
       "    <tr>\n",
       "      <th>50%</th>\n",
       "      <td>13.287435</td>\n",
       "      <td>8.151056</td>\n",
       "      <td>8.057230</td>\n",
       "      <td>8.033715</td>\n",
       "    </tr>\n",
       "    <tr>\n",
       "      <th>75%</th>\n",
       "      <td>15.504800</td>\n",
       "      <td>9.262940</td>\n",
       "      <td>9.262940</td>\n",
       "      <td>9.022842</td>\n",
       "    </tr>\n",
       "    <tr>\n",
       "      <th>max</th>\n",
       "      <td>18.438980</td>\n",
       "      <td>10.963800</td>\n",
       "      <td>10.963800</td>\n",
       "      <td>10.963800</td>\n",
       "    </tr>\n",
       "  </tbody>\n",
       "</table>\n",
       "</div>"
      ],
      "text/plain": [
       "          Quotes  TV.advert       Lag1       Lag2\n",
       "count  40.000000  40.000000  40.000000  40.000000\n",
       "mean   13.604347   8.175403   8.158619   8.097466\n",
       "std     2.399347   1.317264   1.314308   1.260453\n",
       "min     8.394680   5.707495   5.707495   5.707495\n",
       "25%    12.023205   7.212725   7.212725   7.212725\n",
       "50%    13.287435   8.151056   8.057230   8.033715\n",
       "75%    15.504800   9.262940   9.262940   9.022842\n",
       "max    18.438980  10.963800  10.963800  10.963800"
      ]
     },
     "execution_count": 12,
     "metadata": {},
     "output_type": "execute_result"
    }
   ],
   "source": [
    "Insurance.describe()"
   ]
  },
  {
   "cell_type": "markdown",
   "metadata": {},
   "source": [
    "## Method1 :Regression on time"
   ]
  },
  {
   "cell_type": "code",
   "execution_count": 13,
   "metadata": {},
   "outputs": [],
   "source": [
    "time = [i+1 for i in range(len(Insurance))]"
   ]
  },
  {
   "cell_type": "code",
   "execution_count": 14,
   "metadata": {},
   "outputs": [
    {
     "data": {
      "text/html": [
       "<div>\n",
       "<style scoped>\n",
       "    .dataframe tbody tr th:only-of-type {\n",
       "        vertical-align: middle;\n",
       "    }\n",
       "\n",
       "    .dataframe tbody tr th {\n",
       "        vertical-align: top;\n",
       "    }\n",
       "\n",
       "    .dataframe thead th {\n",
       "        text-align: right;\n",
       "    }\n",
       "</style>\n",
       "<table border=\"1\" class=\"dataframe\">\n",
       "  <thead>\n",
       "    <tr style=\"text-align: right;\">\n",
       "      <th></th>\n",
       "      <th>Quotes</th>\n",
       "      <th>TV.advert</th>\n",
       "      <th>Lag1</th>\n",
       "      <th>Lag2</th>\n",
       "      <th>time</th>\n",
       "    </tr>\n",
       "    <tr>\n",
       "      <th>Month</th>\n",
       "      <th></th>\n",
       "      <th></th>\n",
       "      <th></th>\n",
       "      <th></th>\n",
       "      <th></th>\n",
       "    </tr>\n",
       "  </thead>\n",
       "  <tbody>\n",
       "    <tr>\n",
       "      <th>Jan-15</th>\n",
       "      <td>12.97065</td>\n",
       "      <td>7.212725</td>\n",
       "      <td>8.057230</td>\n",
       "      <td>8.033715</td>\n",
       "      <td>1</td>\n",
       "    </tr>\n",
       "    <tr>\n",
       "      <th>Feb-15</th>\n",
       "      <td>15.38714</td>\n",
       "      <td>9.443570</td>\n",
       "      <td>7.212725</td>\n",
       "      <td>8.033715</td>\n",
       "      <td>2</td>\n",
       "    </tr>\n",
       "    <tr>\n",
       "      <th>Mar-15</th>\n",
       "      <td>13.22957</td>\n",
       "      <td>7.534250</td>\n",
       "      <td>9.443570</td>\n",
       "      <td>7.212725</td>\n",
       "      <td>3</td>\n",
       "    </tr>\n",
       "    <tr>\n",
       "      <th>Apr-15</th>\n",
       "      <td>12.97065</td>\n",
       "      <td>7.212725</td>\n",
       "      <td>7.534250</td>\n",
       "      <td>9.443570</td>\n",
       "      <td>4</td>\n",
       "    </tr>\n",
       "    <tr>\n",
       "      <th>May-15</th>\n",
       "      <td>15.38714</td>\n",
       "      <td>9.443570</td>\n",
       "      <td>7.212725</td>\n",
       "      <td>7.534250</td>\n",
       "      <td>5</td>\n",
       "    </tr>\n",
       "  </tbody>\n",
       "</table>\n",
       "</div>"
      ],
      "text/plain": [
       "          Quotes  TV.advert      Lag1      Lag2  time\n",
       "Month                                                \n",
       "Jan-15  12.97065   7.212725  8.057230  8.033715     1\n",
       "Feb-15  15.38714   9.443570  7.212725  8.033715     2\n",
       "Mar-15  13.22957   7.534250  9.443570  7.212725     3\n",
       "Apr-15  12.97065   7.212725  7.534250  9.443570     4\n",
       "May-15  15.38714   9.443570  7.212725  7.534250     5"
      ]
     },
     "execution_count": 14,
     "metadata": {},
     "output_type": "execute_result"
    }
   ],
   "source": [
    "Insurance['time'] = time\n",
    "Insurance.head()"
   ]
  },
  {
   "cell_type": "code",
   "execution_count": 15,
   "metadata": {},
   "outputs": [],
   "source": [
    "train=Insurance[0:int(len(Insurance)*0.7)] \n",
    "test=Insurance[int(len(Insurance)*0.7):]"
   ]
  },
  {
   "cell_type": "code",
   "execution_count": 16,
   "metadata": {},
   "outputs": [
    {
     "data": {
      "text/plain": [
       "<matplotlib.axes._subplots.AxesSubplot at 0x21dfed88898>"
      ]
     },
     "execution_count": 16,
     "metadata": {},
     "output_type": "execute_result"
    },
    {
     "data": {
      "image/png": "[encoded data removed]",
      "text/plain": [
       "<Figure size 576x432 with 1 Axes>"
      ]
     },
     "metadata": {
      "needs_background": "light"
     },
     "output_type": "display_data"
    }
   ],
   "source": [
    "train.Quotes.plot(figsize=[8,6])\n",
    "test.Quotes.plot(figsize=[8,6])"
   ]
  },
  {
   "cell_type": "code",
   "execution_count": 17,
   "metadata": {},
   "outputs": [],
   "source": [
    "quotes_ts = Insurance['Quotes']\n",
    "result = adfuller(quotes_ts)"
   ]
  },
  {
   "cell_type": "code",
   "execution_count": 18,
   "metadata": {},
   "outputs": [
    {
     "name": "stdout",
     "output_type": "stream",
     "text": [
      "(-3.423136105073109, 0.010194998749727959, 1, 38, {'1%': -3.6155091011809297, '5%': -2.941262357486514, '10%': -2.6091995013850418}, 115.51427465496377)\n"
     ]
    }
   ],
   "source": [
    "print(result)"
   ]
  },
  {
   "cell_type": "markdown",
   "metadata": {},
   "source": [
    "### here adf statistic is =  -3.423 and p value = 0.010 which means it is stationary if adf statistic = less than 0.5 and p value less than 0.05 then series is stationary."
   ]
  },
  {
   "cell_type": "markdown",
   "metadata": {},
   "source": [
    "## This series is stationary \n",
    "###  A stationary time series is one whose statistical properties such as mean, variance, autocorrelation, etc. are all constant over time."
   ]
  },
  {
   "cell_type": "markdown",
   "metadata": {},
   "source": [
    "### So, we have to decompose to understand long term effect or to understand the relative effect.Decomposition provides a useful abstract model for thinking about time series generally and for better understanding problems during time series analysis and forecasting."
   ]
  },
  {
   "cell_type": "markdown",
   "metadata": {},
   "source": [
    "##  Decompostion of time series :ADDITIVE and MULTIPLICATIVE MODEL"
   ]
  },
  {
   "cell_type": "code",
   "execution_count": 19,
   "metadata": {},
   "outputs": [
    {
     "data": {
      "image/png": "[encoded data removed]",
      "text/plain": [
       "<Figure size 432x288 with 4 Axes>"
      ]
     },
     "metadata": {
      "needs_background": "light"
     },
     "output_type": "display_data"
    }
   ],
   "source": [
    "#use decomposition to identify the trend and seasonality components\n",
    "# Additive model freq set to 4 because We want in quarters  data \n",
    "# obs = level + trend + seasonality + error (residual = whitenoise)\n",
    "\n",
    "decompInsurance = seasonal_decompose(Insurance.Quotes, model=\"additive\", freq=4)\n",
    "decompInsurance.plot()\n",
    "plt.show()"
   ]
  },
  {
   "cell_type": "code",
   "execution_count": 20,
   "metadata": {},
   "outputs": [],
   "source": [
    "#Extract the trend , seasonality and random components\n",
    "trend = decompInsurance.trend\n",
    "seasonal = decompInsurance.seasonal\n",
    "residual = decompInsurance.resid"
   ]
  },
  {
   "cell_type": "code",
   "execution_count": 21,
   "metadata": {},
   "outputs": [
    {
     "name": "stdout",
     "output_type": "stream",
     "text": [
      "Month\n",
      "Jan-15          NaN\n",
      "Feb-15          NaN\n",
      "Mar-15    13.941564\n",
      "Apr-15    13.785592\n",
      "May-15    12.931585\n",
      "Name: Quotes, dtype: float64\n",
      "Month\n",
      "Jan-15    0.617829\n",
      "Feb-15    0.491592\n",
      "Mar-15   -0.315839\n",
      "Apr-15   -0.793582\n",
      "May-15    0.617829\n",
      "Name: Quotes, dtype: float64\n",
      "Month\n",
      "Jan-15         NaN\n",
      "Feb-15         NaN\n",
      "Mar-15   -0.396154\n",
      "Apr-15   -0.021360\n",
      "May-15    1.837726\n",
      "Name: Quotes, dtype: float64\n"
     ]
    }
   ],
   "source": [
    "print(trend.head())\n",
    "print(seasonal.head())\n",
    "print(residual.head())"
   ]
  },
  {
   "cell_type": "markdown",
   "metadata": {},
   "source": [
    "# determining the autocorrelation factor"
   ]
  },
  {
   "cell_type": "code",
   "execution_count": 22,
   "metadata": {},
   "outputs": [
    {
     "data": {
      "text/plain": [
       "<matplotlib.axes._subplots.AxesSubplot at 0x21dff2167f0>"
      ]
     },
     "execution_count": 22,
     "metadata": {},
     "output_type": "execute_result"
    },
    {
     "data": {
      "image/png": "[encoded data removed]",
      "text/plain": [
       "<Figure size 432x288 with 1 Axes>"
      ]
     },
     "metadata": {
      "needs_background": "light"
     },
     "output_type": "display_data"
    }
   ],
   "source": [
    "pd.plotting.autocorrelation_plot(Insurance['Quotes'])"
   ]
  },
  {
   "cell_type": "code",
   "execution_count": 23,
   "metadata": {},
   "outputs": [
    {
     "data": {
      "text/plain": [
       "-0.01580646616527665"
      ]
     },
     "execution_count": 23,
     "metadata": {},
     "output_type": "execute_result"
    }
   ],
   "source": [
    "Insurance.Quotes.corr(Insurance.Quotes.shift(4))"
   ]
  },
  {
   "cell_type": "code",
   "execution_count": 24,
   "metadata": {},
   "outputs": [],
   "source": [
    "Insurance['stationary']=Insurance['Quotes'].diff()"
   ]
  },
  {
   "cell_type": "code",
   "execution_count": 25,
   "metadata": {},
   "outputs": [
    {
     "data": {
      "text/plain": [
       "<matplotlib.axes._subplots.AxesSubplot at 0x21dff20fcc0>"
      ]
     },
     "execution_count": 25,
     "metadata": {},
     "output_type": "execute_result"
    },
    {
     "data": {
      "image/png": "[encoded data removed]",
      "text/plain": [
       "<Figure size 576x432 with 1 Axes>"
      ]
     },
     "metadata": {
      "needs_background": "light"
     },
     "output_type": "display_data"
    }
   ],
   "source": [
    "Insurance[[\"Quotes\",\"stationary\"]].plot(figsize=(8,6))"
   ]
  },
  {
   "cell_type": "code",
   "execution_count": 26,
   "metadata": {},
   "outputs": [
    {
     "name": "stderr",
     "output_type": "stream",
     "text": [
      "C:\\Users\\hp\\Anaconda3\\lib\\site-packages\\statsmodels\\tsa\\base\\tsa_model.py:221: ValueWarning: An unsupported index was provided and will be ignored when e.g. forecasting.\n",
      "  ' ignored when e.g. forecasting.', ValueWarning)\n",
      "C:\\Users\\hp\\Anaconda3\\lib\\site-packages\\statsmodels\\tsa\\base\\tsa_model.py:221: ValueWarning: An unsupported index was provided and will be ignored when e.g. forecasting.\n",
      "  ' ignored when e.g. forecasting.', ValueWarning)\n"
     ]
    },
    {
     "name": "stdout",
     "output_type": "stream",
     "text": [
      "113.86484305480124\n"
     ]
    }
   ],
   "source": [
    "# parameter - p,q,d\n",
    "# p - periods taken for auto regressive model - how many month ? 1 month then 1 period\n",
    "# q - moving average, get the errors.Perios in moving average\n",
    "# d - order of integreation or integrated order - how many times difference is done\n",
    "model_arima = ARIMA(train[\"Quotes\"],order = (3,1,0)) # p =3 , d = 1, q =1\n",
    "model_arima_fit = model_arima.fit()\n",
    "print(model_arima_fit.aic)"
   ]
  },
  {
   "cell_type": "code",
   "execution_count": 27,
   "metadata": {},
   "outputs": [
    {
     "data": {
      "text/plain": [
       "array([9.83852077, 9.44605964, 8.65893575, 8.78039437, 8.86703729,\n",
       "       8.57843619, 8.39440006, 8.34607182, 8.22133759, 8.05682618,\n",
       "       7.93427059, 7.81878353])"
      ]
     },
     "execution_count": 27,
     "metadata": {},
     "output_type": "execute_result"
    }
   ],
   "source": [
    "predictions = model_arima_fit.forecast(steps=12)[0]\n",
    "predictions"
   ]
  },
  {
   "cell_type": "code",
   "execution_count": 28,
   "metadata": {},
   "outputs": [
    {
     "data": {
      "text/plain": [
       "[<matplotlib.lines.Line2D at 0x21dff332ba8>]"
      ]
     },
     "execution_count": 28,
     "metadata": {},
     "output_type": "execute_result"
    },
    {
     "data": {
      "image/png": "[encoded data removed]",
      "text/plain": [
       "<Figure size 432x288 with 1 Axes>"
      ]
     },
     "metadata": {
      "needs_background": "light"
     },
     "output_type": "display_data"
    }
   ],
   "source": [
    "plt.plot(test[\"Quotes\"].values)\n",
    "plt.plot(predictions,color = 'red')"
   ]
  },
  {
   "cell_type": "code",
   "execution_count": 29,
   "metadata": {},
   "outputs": [
    {
     "data": {
      "text/plain": [
       "array([12.30076, 13.84831, 15.96246, 14.19738, 12.85922, 12.08837,\n",
       "       12.93375, 11.72235, 15.47126, 18.43898, 17.49186, 14.49168])"
      ]
     },
     "execution_count": 29,
     "metadata": {},
     "output_type": "execute_result"
    }
   ],
   "source": [
    "test[\"Quotes\"].values"
   ]
  },
  {
   "cell_type": "code",
   "execution_count": 30,
   "metadata": {},
   "outputs": [
    {
     "data": {
      "text/plain": [
       "[(0, 0, 0),\n",
       " (0, 0, 1),\n",
       " (0, 0, 2),\n",
       " (0, 0, 3),\n",
       " (0, 0, 4),\n",
       " (0, 1, 0),\n",
       " (0, 1, 1),\n",
       " (0, 1, 2),\n",
       " (0, 1, 3),\n",
       " (0, 1, 4),\n",
       " (0, 2, 0),\n",
       " (0, 2, 1),\n",
       " (0, 2, 2),\n",
       " (0, 2, 3),\n",
       " (0, 2, 4),\n",
       " (0, 3, 0),\n",
       " (0, 3, 1),\n",
       " (0, 3, 2),\n",
       " (0, 3, 3),\n",
       " (0, 3, 4),\n",
       " (0, 4, 0),\n",
       " (0, 4, 1),\n",
       " (0, 4, 2),\n",
       " (0, 4, 3),\n",
       " (0, 4, 4),\n",
       " (1, 0, 0),\n",
       " (1, 0, 1),\n",
       " (1, 0, 2),\n",
       " (1, 0, 3),\n",
       " (1, 0, 4),\n",
       " (1, 1, 0),\n",
       " (1, 1, 1),\n",
       " (1, 1, 2),\n",
       " (1, 1, 3),\n",
       " (1, 1, 4),\n",
       " (1, 2, 0),\n",
       " (1, 2, 1),\n",
       " (1, 2, 2),\n",
       " (1, 2, 3),\n",
       " (1, 2, 4),\n",
       " (1, 3, 0),\n",
       " (1, 3, 1),\n",
       " (1, 3, 2),\n",
       " (1, 3, 3),\n",
       " (1, 3, 4),\n",
       " (1, 4, 0),\n",
       " (1, 4, 1),\n",
       " (1, 4, 2),\n",
       " (1, 4, 3),\n",
       " (1, 4, 4),\n",
       " (2, 0, 0),\n",
       " (2, 0, 1),\n",
       " (2, 0, 2),\n",
       " (2, 0, 3),\n",
       " (2, 0, 4),\n",
       " (2, 1, 0),\n",
       " (2, 1, 1),\n",
       " (2, 1, 2),\n",
       " (2, 1, 3),\n",
       " (2, 1, 4),\n",
       " (2, 2, 0),\n",
       " (2, 2, 1),\n",
       " (2, 2, 2),\n",
       " (2, 2, 3),\n",
       " (2, 2, 4),\n",
       " (2, 3, 0),\n",
       " (2, 3, 1),\n",
       " (2, 3, 2),\n",
       " (2, 3, 3),\n",
       " (2, 3, 4),\n",
       " (2, 4, 0),\n",
       " (2, 4, 1),\n",
       " (2, 4, 2),\n",
       " (2, 4, 3),\n",
       " (2, 4, 4),\n",
       " (3, 0, 0),\n",
       " (3, 0, 1),\n",
       " (3, 0, 2),\n",
       " (3, 0, 3),\n",
       " (3, 0, 4),\n",
       " (3, 1, 0),\n",
       " (3, 1, 1),\n",
       " (3, 1, 2),\n",
       " (3, 1, 3),\n",
       " (3, 1, 4),\n",
       " (3, 2, 0),\n",
       " (3, 2, 1),\n",
       " (3, 2, 2),\n",
       " (3, 2, 3),\n",
       " (3, 2, 4),\n",
       " (3, 3, 0),\n",
       " (3, 3, 1),\n",
       " (3, 3, 2),\n",
       " (3, 3, 3),\n",
       " (3, 3, 4),\n",
       " (3, 4, 0),\n",
       " (3, 4, 1),\n",
       " (3, 4, 2),\n",
       " (3, 4, 3),\n",
       " (3, 4, 4),\n",
       " (4, 0, 0),\n",
       " (4, 0, 1),\n",
       " (4, 0, 2),\n",
       " (4, 0, 3),\n",
       " (4, 0, 4),\n",
       " (4, 1, 0),\n",
       " (4, 1, 1),\n",
       " (4, 1, 2),\n",
       " (4, 1, 3),\n",
       " (4, 1, 4),\n",
       " (4, 2, 0),\n",
       " (4, 2, 1),\n",
       " (4, 2, 2),\n",
       " (4, 2, 3),\n",
       " (4, 2, 4),\n",
       " (4, 3, 0),\n",
       " (4, 3, 1),\n",
       " (4, 3, 2),\n",
       " (4, 3, 3),\n",
       " (4, 3, 4),\n",
       " (4, 4, 0),\n",
       " (4, 4, 1),\n",
       " (4, 4, 2),\n",
       " (4, 4, 3),\n",
       " (4, 4, 4)]"
      ]
     },
     "execution_count": 30,
     "metadata": {},
     "output_type": "execute_result"
    }
   ],
   "source": [
    "p=d=q=range(0,5)\n",
    "import itertools\n",
    "## create a list with all possible combination\n",
    "pdq = list(itertools.product(p,d,q))\n",
    "pdq"
   ]
  },
  {
   "cell_type": "code",
   "execution_count": 31,
   "metadata": {},
   "outputs": [
    {
     "name": "stdout",
     "output_type": "stream",
     "text": [
      "(0, 0, 0) 133.06227132518654\n",
      "(0, 0, 1) 115.23357888047727\n",
      "(0, 1, 0) 110.31129307085867\n",
      "(0, 1, 1) 112.24161663359365\n",
      "(0, 1, 2) 110.91202157768777\n",
      "(0, 1, 3) 112.91064413298423\n",
      "(0, 1, 4) 114.84500809318835\n",
      "(0, 2, 0) 123.17730452585994\n",
      "(0, 2, 1) 111.57859087518284\n",
      "(0, 2, 2) 113.44019517993698\n",
      "(1, 0, 0) 114.14696064022314\n",
      "(1, 0, 1) 113.37064248477952\n",
      "(1, 0, 2) 114.80589761560002\n",
      "(1, 0, 4) 115.79691759946233\n",
      "(1, 1, 0) 112.27515152345455\n",
      "(1, 2, 0) 121.55400958252346\n",
      "(2, 0, 0) 114.97611232886219\n",
      "(2, 0, 1) 114.84997232657582\n",
      "(2, 0, 2) 116.75106842812968\n",
      "(2, 1, 0) 112.26856867344284\n",
      "(2, 1, 1) 113.02642290337647\n",
      "(2, 2, 0) 116.42742489455918\n",
      "(2, 2, 1) 113.9143551430811\n",
      "(2, 2, 2) 114.70785457609573\n",
      "(3, 0, 0) 116.12684319267264\n",
      "(3, 0, 1) 116.59729121236853\n",
      "(3, 0, 2) 119.1151800341703\n",
      "(3, 1, 0) 113.86484305480124\n",
      "(3, 1, 1) 115.01581418000697\n",
      "(3, 1, 2) 116.70046726266645\n",
      "(3, 2, 0) 118.30683136852662\n",
      "(3, 2, 1) 120.3300492233199\n",
      "(3, 2, 2) 117.09748661278914\n",
      "(4, 0, 0) 116.68150424907694\n",
      "(4, 0, 1) 118.18580802206272\n",
      "(4, 0, 2) 119.95176988535326\n",
      "(4, 0, 3) 117.31163380911106\n",
      "(4, 1, 0) 114.37904325044289\n",
      "(4, 1, 1) 117.42308534421231\n",
      "(4, 1, 2) 119.43858198860754\n",
      "(4, 1, 3) 120.129122196398\n",
      "(4, 1, 4) 120.14987686623138\n",
      "(4, 2, 0) 118.44871271394021\n",
      "(4, 2, 1) 116.18937443330188\n",
      "(4, 2, 2) 118.20337056279054\n",
      "(4, 2, 4) 120.92671180115906\n"
     ]
    }
   ],
   "source": [
    "import warnings \n",
    "warnings.filterwarnings('ignore')\n",
    "\n",
    "for param in pdq:\n",
    "    try:\n",
    "        model_arima = ARIMA(train[\"Quotes\"],order = param)\n",
    "        model_arima_fit = model_arima.fit()\n",
    "        print(param,model_arima_fit.aic)\n",
    "    \n",
    "    except:\n",
    "        continue"
   ]
  },
  {
   "cell_type": "markdown",
   "metadata": {},
   "source": [
    "## Method1 :Regression on time"
   ]
  },
  {
   "cell_type": "code",
   "execution_count": 32,
   "metadata": {},
   "outputs": [],
   "source": [
    "x_train = train.drop('Quotes', axis=1)\n",
    "x_test = test.drop('Quotes', axis=1)\n",
    "y_train = train[['Quotes']]\n",
    "y_test = test[['Quotes']]"
   ]
  },
  {
   "cell_type": "code",
   "execution_count": 33,
   "metadata": {},
   "outputs": [],
   "source": [
    "model = LinearRegression()"
   ]
  },
  {
   "cell_type": "code",
   "execution_count": 34,
   "metadata": {},
   "outputs": [
    {
     "data": {
      "text/plain": [
       "LinearRegression(copy_X=True, fit_intercept=True, n_jobs=None,\n",
       "         normalize=False)"
      ]
     },
     "execution_count": 34,
     "metadata": {},
     "output_type": "execute_result"
    }
   ],
   "source": [
    "model.fit(x_train, y_train)"
   ]
  },
  {
   "cell_type": "code",
   "execution_count": 35,
   "metadata": {},
   "outputs": [],
   "source": [
    "predictions = model.fit(x_train,y_train).predict(x_test)"
   ]
  },
  {
   "cell_type": "code",
   "execution_count": 36,
   "metadata": {},
   "outputs": [],
   "source": [
    "y_test['Regontime'] = predictions"
   ]
  },
  {
   "cell_type": "code",
   "execution_count": 49,
   "metadata": {},
   "outputs": [
    {
     "data": {
      "text/plain": [
       "<matplotlib.legend.Legend at 0x21d8125a278>"
      ]
     },
     "execution_count": 49,
     "metadata": {},
     "output_type": "execute_result"
    },
    {
     "data": {
      "image/png": "[encoded data removed]",
      "text/plain": [
       "<Figure size 1296x576 with 1 Axes>"
      ]
     },
     "metadata": {
      "needs_background": "light"
     },
     "output_type": "display_data"
    }
   ],
   "source": [
    "plt.figure(figsize=(18,8))\n",
    "plt.plot(train['Quotes'])\n",
    "plt.plot(test['Quotes'])\n",
    "plt.plot(y_test['Regontime'])\n",
    "plt.legend(loc='best')"
   ]
  },
  {
   "cell_type": "code",
   "execution_count": 46,
   "metadata": {},
   "outputs": [
    {
     "data": {
      "text/plain": [
       "1.412"
      ]
     },
     "execution_count": 46,
     "metadata": {},
     "output_type": "execute_result"
    }
   ],
   "source": [
    "rmse = np.sqrt(mean_squared_error(test.Quotes,predictions))\n",
    "rmse = round(rmse, 3)\n",
    "rmse"
   ]
  },
  {
   "cell_type": "code",
   "execution_count": 51,
   "metadata": {},
   "outputs": [
    {
     "data": {
      "text/plain": [
       "0.09"
      ]
     },
     "execution_count": 51,
     "metadata": {},
     "output_type": "execute_result"
    }
   ],
   "source": [
    "mape = np.mean(np.abs((test['Quotes']-y_test['Regontime'])/test['Quotes']))\n",
    "mape = round(mape,3)\n",
    "mape"
   ]
  },
  {
   "cell_type": "code",
   "execution_count": 52,
   "metadata": {},
   "outputs": [
    {
     "data": {
      "text/html": [
       "<div>\n",
       "<style scoped>\n",
       "    .dataframe tbody tr th:only-of-type {\n",
       "        vertical-align: middle;\n",
       "    }\n",
       "\n",
       "    .dataframe tbody tr th {\n",
       "        vertical-align: top;\n",
       "    }\n",
       "\n",
       "    .dataframe thead th {\n",
       "        text-align: right;\n",
       "    }\n",
       "</style>\n",
       "<table border=\"1\" class=\"dataframe\">\n",
       "  <thead>\n",
       "    <tr style=\"text-align: right;\">\n",
       "      <th></th>\n",
       "      <th>Method</th>\n",
       "      <th>MAPE</th>\n",
       "      <th>RMSE</th>\n",
       "    </tr>\n",
       "  </thead>\n",
       "  <tbody>\n",
       "    <tr>\n",
       "      <th>0</th>\n",
       "      <td>RegressionOnTime</td>\n",
       "      <td>0.09</td>\n",
       "      <td>1.412</td>\n",
       "    </tr>\n",
       "  </tbody>\n",
       "</table>\n",
       "</div>"
      ],
      "text/plain": [
       "             Method  MAPE   RMSE\n",
       "0  RegressionOnTime  0.09  1.412"
      ]
     },
     "execution_count": 52,
     "metadata": {},
     "output_type": "execute_result"
    }
   ],
   "source": [
    "ResultsDf = pd.DataFrame({'Method':['RegressionOnTime'], 'MAPE': [mape], 'RMSE': [rmse]})\n",
    "ResultsDf"
   ]
  },
  {
   "cell_type": "code",
   "execution_count": null,
   "metadata": {},
   "outputs": [],
   "source": []
  }
 ],
 "metadata": {
  "kernelspec": {
   "display_name": "Python 3",
   "language": "python",
   "name": "python3"
  },
  "language_info": {
   "codemirror_mode": {
    "name": "ipython",
    "version": 3
   },
   "file_extension": ".py",
   "mimetype": "text/x-python",
   "name": "python",
   "nbconvert_exporter": "python",
   "pygments_lexer": "ipython3",
   "version": "3.7.3"
  }
 },
 "nbformat": 4,
 "nbformat_minor": 2
}
